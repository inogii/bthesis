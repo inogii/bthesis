{
 "cells": [
  {
   "attachments": {},
   "cell_type": "markdown",
   "metadata": {},
   "source": [
    "### Properties of the gnn internet data graph"
   ]
  },
  {
   "cell_type": "code",
   "execution_count": 10,
   "metadata": {},
   "outputs": [
    {
     "name": "stdout",
     "output_type": "stream",
     "text": [
      "Graph(num_nodes=301407, num_edges=1353047,\n",
      "      ndata_schemes={'ntype': Scheme(shape=(), dtype=torch.int64), 'label': Scheme(shape=(4,), dtype=torch.float32), 'feat': Scheme(shape=(32,), dtype=torch.float32)}\n",
      "      edata_schemes={})\n",
      "\n",
      "feat\n",
      "<class 'torch.Tensor'>\n",
      "torch.Size([301407, 32])\n",
      "\n",
      "label\n",
      "<class 'torch.Tensor'>\n",
      "torch.Size([301407, 4])\n",
      "\n",
      "node 0\n",
      "{'ntype': tensor(1), 'label': tensor([0., 0., 0., 0.]), 'feat': tensor([0., 0., 0., 0., 0., 0., 0., 0., 0., 0., 0., 0., 0., 0., 0., 0., 0., 0., 0., 0., 0., 0., 0., 0.,\n",
      "        0., 0., 0., 0., 0., 0., 0., 0.])}\n",
      "\n",
      "node 50000\n",
      "{'ntype': tensor(2), 'label': tensor([0., 0., 1., 0.]), 'feat': tensor([2.0000e+00, 0.0000e+00, 0.0000e+00, 0.0000e+00, 0.0000e+00, 0.0000e+00,\n",
      "        0.0000e+00, 0.0000e+00, 0.0000e+00, 0.0000e+00, 0.0000e+00, 0.0000e+00,\n",
      "        0.0000e+00, 0.0000e+00, 0.0000e+00, 0.0000e+00, 0.0000e+00, 0.0000e+00,\n",
      "        0.0000e+00, 0.0000e+00, 0.0000e+00, 0.0000e+00, 0.0000e+00, 0.0000e+00,\n",
      "        0.0000e+00, 0.0000e+00, 0.0000e+00, 7.8013e-04, 2.8731e-05, 2.3414e-04,\n",
      "        2.1065e-03, 0.0000e+00])}\n",
      "\n",
      "node 50000\n",
      "{'ntype': tensor(2), 'label': tensor([1., 0., 0., 0.]), 'feat': tensor([2.0000e+00, 0.0000e+00, 0.0000e+00, 0.0000e+00, 0.0000e+00, 0.0000e+00,\n",
      "        0.0000e+00, 0.0000e+00, 0.0000e+00, 0.0000e+00, 0.0000e+00, 0.0000e+00,\n",
      "        0.0000e+00, 0.0000e+00, 0.0000e+00, 0.0000e+00, 0.0000e+00, 0.0000e+00,\n",
      "        0.0000e+00, 0.0000e+00, 0.0000e+00, 0.0000e+00, 0.0000e+00, 0.0000e+00,\n",
      "        0.0000e+00, 0.0000e+00, 9.3056e-01, 1.0731e-06, 0.0000e+00, 1.6695e-04,\n",
      "        6.0229e-03, 0.0000e+00])}\n",
      "\n",
      "edge 0\n",
      "{}\n",
      "\n",
      "edge 1\n",
      "{}\n",
      "tensor([0., 1.])\n"
     ]
    }
   ],
   "source": [
    "from modules.gnn import GNN\n",
    "import torch\n",
    "import pprint\n",
    "\n",
    "gnn = GNN('node_classification', 'RMSE', debug=True)\n",
    "gnn.load_dataset('dataset/link_classification-default-minmax.pkl')\n",
    "print('\\nfeat')\n",
    "print(type(gnn.graph.ndata['feat']))\n",
    "print(gnn.graph.ndata['feat'].shape)\n",
    "print('\\nlabel')\n",
    "print(type(gnn.graph.ndata['label']))\n",
    "print(gnn.graph.ndata['label'].shape)\n",
    "\n",
    "node_data = gnn.graph.ndata\n",
    "node_0_data = {key: data[0] for key, data in node_data.items()}\n",
    "print('\\nnode 0')\n",
    "print(node_0_data)\n",
    "\n",
    "node_data = gnn.graph.ndata\n",
    "node_1_data = {key: data[50000] for key, data in node_data.items()}\n",
    "print('\\nnode 50000')\n",
    "print(node_1_data)\n",
    "\n",
    "node_data = gnn.graph.ndata\n",
    "node_1_data = {key: data[34060] for key, data in node_data.items()}\n",
    "print('\\nnode 50000')\n",
    "print(node_1_data)\n",
    "\n",
    "edge_data = gnn.graph.edata\n",
    "edge_0_data = {key: data[0] for key, data in edge_data.items()}\n",
    "print('\\nedge 0')\n",
    "print(edge_0_data)\n",
    "\n",
    "edge_data = gnn.graph.edata\n",
    "edge_1_data = {key: data[1] for key, data in edge_data.items()}\n",
    "print('\\nedge 1')\n",
    "print(edge_1_data)\n",
    "\n",
    "labels = torch.unique(gnn.graph.ndata['label'])\n",
    "print(labels)"
   ]
  },
  {
   "attachments": {},
   "cell_type": "raw",
   "metadata": {},
   "source": [
    "node_id,feat,label  \n",
    "1,\n",
    "\"-0.8606766, 0.55405277, -0.9861847, -0.5394925, 0.6153927, -0.84444535, 1.4371401, -1.6331661, -0.19915652, -0.2924818, -0.29585636, -0.5812447, -0.34154442, -0.6638193, 0.2941673, 0.25898856\",\n",
    "\"0.0, 0.0, 0.0, 1.0, 0.0, 0.0, 0.0\""
   ]
  },
  {
   "attachments": {},
   "cell_type": "markdown",
   "metadata": {},
   "source": [
    "So, the structure it follows is the node_id, one tensor of numerical features and finally a one hot encoded tensor with the label"
   ]
  },
  {
   "cell_type": "code",
   "execution_count": 3,
   "metadata": {},
   "outputs": [
    {
     "name": "stdout",
     "output_type": "stream",
     "text": [
      "Graph(num_nodes=51839, num_edges=256722,\n",
      "      ndata_schemes={'ntype': Scheme(shape=(), dtype=torch.int64), 'label': Scheme(shape=(9,), dtype=torch.float32), 'feat': Scheme(shape=(32,), dtype=torch.float32)}\n",
      "      edata_schemes={})\n",
      "\n",
      "feat\n",
      "<class 'torch.Tensor'>\n",
      "torch.Size([51839, 32])\n",
      "\n",
      "label\n",
      "<class 'torch.Tensor'>\n",
      "torch.Size([51839, 9])\n",
      "\n",
      "node 0\n",
      "{'ntype': tensor(1), 'label': tensor([0., 0., 0., 0., 0., 0., 1., 0., 0.]), 'feat': tensor([1.0000e+00, 1.0900e+02, 2.0000e+00, 5.0000e+00, 1.0000e+00, 9.0000e+00,\n",
      "        0.0000e+00, 0.0000e+00, 0.0000e+00, 4.1300e+02, 8.0000e+00, 4.0500e+02,\n",
      "        4.9286e+03, 4.1390e-01, 4.7427e-01, 2.2637e-04, 1.8550e-02, 1.7448e+05,\n",
      "        4.1641e-01, 4.8696e-01, 8.4838e-03, 1.6128e-01, 2.0462e-02, 4.9261e-02,\n",
      "        4.3000e+01, 0.0000e+00, 0.0000e+00, 0.0000e+00, 0.0000e+00, 0.0000e+00,\n",
      "        0.0000e+00, 0.0000e+00])}\n",
      "\n",
      "node 1\n",
      "{'ntype': tensor(1), 'label': tensor([0., 0., 1., 0., 0., 0., 0., 0., 0.]), 'feat': tensor([1.0000e+00, 3.8000e+01, 4.0000e+00, 2.0000e+00, 0.0000e+00, 1.4200e+02,\n",
      "        0.0000e+00, 1.0000e+00, 0.0000e+00, 1.6200e+02, 3.2000e+01, 1.3000e+02,\n",
      "        1.5332e+04, 3.8429e-01, 4.1856e-01, 4.7677e-04, 8.8090e-02, 9.8222e+04,\n",
      "        3.9630e-01, 4.4113e-01, 3.9759e-03, 8.8554e-02, 4.5498e-02, 1.3573e-01,\n",
      "        8.4000e+01, 0.0000e+00, 0.0000e+00, 0.0000e+00, 0.0000e+00, 0.0000e+00,\n",
      "        0.0000e+00, 0.0000e+00])}\n",
      "\n",
      "train_mask\n",
      "None\n",
      "\n",
      "test_mask\n",
      "None\n"
     ]
    }
   ],
   "source": [
    "gnn = GNN('node_classification', 'RMSE', debug=True)\n",
    "gnn.load_dataset('dataset/business_classification.pkl')\n",
    "print('\\nfeat')\n",
    "print(type(gnn.graph.ndata['feat']))\n",
    "print(gnn.graph.ndata['feat'].shape)\n",
    "print('\\nlabel')\n",
    "print(type(gnn.graph.ndata['label']))\n",
    "print(gnn.graph.ndata['label'].shape)\n",
    "\n",
    "node_data = gnn.graph.ndata\n",
    "node_0_data = {key: data[0] for key, data in node_data.items()}\n",
    "print('\\nnode 0')\n",
    "print(node_0_data)\n",
    "\n",
    "node_data = gnn.graph.ndata\n",
    "node_1_data = {key: data[1] for key, data in node_data.items()}\n",
    "print('\\nnode 1')\n",
    "print(node_1_data)\n",
    "print('\\ntrain_mask')\n",
    "print(gnn.train_mask)\n",
    "print('\\ntest_mask')\n",
    "print(gnn.test_mask)"
   ]
  },
  {
   "attachments": {},
   "cell_type": "markdown",
   "metadata": {},
   "source": [
    "### Random cells"
   ]
  },
  {
   "cell_type": "code",
   "execution_count": null,
   "metadata": {},
   "outputs": [],
   "source": [
    "from modules.graph import Graph\n",
    "\n",
    "graph = Graph()\n",
    "\n",
    "dataset_path = 'test.gml'\n",
    "\n",
    "graph.read_gml(f'{dataset_path}')"
   ]
  },
  {
   "cell_type": "code",
   "execution_count": 2,
   "metadata": {},
   "outputs": [
    {
     "name": "stdout",
     "output_type": "stream",
     "text": [
      "tensor([    0,  3488, 16117, 32234])\n",
      "['_N']\n",
      "_N: 0\n"
     ]
    },
    {
     "ename": "IndexError",
     "evalue": "list index out of range",
     "output_type": "error",
     "traceback": [
      "\u001b[0;31m---------------------------------------------------------------------------\u001b[0m",
      "\u001b[0;31mIndexError\u001b[0m                                Traceback (most recent call last)",
      "Cell \u001b[0;32mIn[2], line 13\u001b[0m\n\u001b[1;32m     11\u001b[0m \u001b[39m# print the counts for each node type\u001b[39;00m\n\u001b[1;32m     12\u001b[0m \u001b[39mfor\u001b[39;00m i, count \u001b[39min\u001b[39;00m \u001b[39menumerate\u001b[39m(counts):\n\u001b[0;32m---> 13\u001b[0m     \u001b[39mprint\u001b[39m(\u001b[39mf\u001b[39m\u001b[39m\"\u001b[39m\u001b[39m{\u001b[39;00mlabels[i]\u001b[39m}\u001b[39;00m\u001b[39m: \u001b[39m\u001b[39m{\u001b[39;00mcount\u001b[39m}\u001b[39;00m\u001b[39m\"\u001b[39m)\n",
      "\u001b[0;31mIndexError\u001b[0m: list index out of range"
     ]
    }
   ],
   "source": [
    "import pprint\n",
    "import torch\n",
    "\n",
    "node_types = graph.graph.ndata['ntype']\n",
    "counts = torch.bincount(node_types)\n",
    "print(counts)\n",
    "# get the node type labels\n",
    "labels = graph.graph.ntypes\n",
    "print(labels)\n",
    "\n",
    "# print the counts for each node type\n",
    "for i, count in enumerate(counts):\n",
    "    print(f\"{labels[i]}: {count}\")"
   ]
  },
  {
   "cell_type": "code",
   "execution_count": 4,
   "metadata": {},
   "outputs": [
    {
     "name": "stdout",
     "output_type": "stream",
     "text": [
      "{'ntype': tensor(2), 'node_hq_country': tensor(nan), 'node_hq_continent': tensor(nan), 'node_business_type': tensor(nan), 'node_rir': tensor(nan), 'node_is_VP': tensor(nan), 'node_transit_degree': tensor(nan), 'node_pfxs_originating': tensor(nan), 'node_pfxs_originating_raw': tensor(nan), 'node_ip_space_originating': tensor(nan), 'node_node_degree': tensor(nan), 'node_in_degree': tensor(nan), 'node_out_degree': tensor(nan), 'node_betweenness_d': tensor(nan), 'node_closeness_d': tensor(nan), 'node_harmonic_closeness_d': tensor(nan), 'node_pagerank_d': tensor(nan), 'node_eigenvector_vmap': tensor(nan), 'node_betweenness_ud': tensor(nan), 'node_closeness_ud': tensor(nan), 'node_harmonic_closeness_ud': tensor(nan), 'node_pagerank_ud': tensor(nan), 'node_eigenvector_ud': tensor(nan), 'node_local_clustering_d': tensor(nan), 'node_local_clustering_ud': tensor(nan), 'node_avg_neighbor_degree': tensor(nan), 'link_vp_visibility': tensor(2.), 'link_advertised_pfxs_count': tensor(336.), 'link_transit_degree_ratio': tensor(0.6408), 'link_betweenness_d': tensor(108.3892), 'link_betweenness_ud': tensor(413.9529), 'role_role': tensor(nan)}\n"
     ]
    }
   ],
   "source": [
    "# get the features for all nodes in the graph\n",
    "node_data = graph.graph.ndata\n",
    "\n",
    "# get the node data for node 0\n",
    "node_0_data = {key: data[3500] for key, data in node_data.items()}\n",
    "\n",
    "# print the node data for node 0\n",
    "print(node_0_data)"
   ]
  }
 ],
 "metadata": {
  "kernelspec": {
   "display_name": "thesis",
   "language": "python",
   "name": "python3"
  },
  "language_info": {
   "codemirror_mode": {
    "name": "ipython",
    "version": 3
   },
   "file_extension": ".py",
   "mimetype": "text/x-python",
   "name": "python",
   "nbconvert_exporter": "python",
   "pygments_lexer": "ipython3",
   "version": "3.11.2"
  },
  "orig_nbformat": 4
 },
 "nbformat": 4,
 "nbformat_minor": 2
}
