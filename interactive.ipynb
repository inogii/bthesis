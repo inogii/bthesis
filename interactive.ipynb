{
 "cells": [
  {
   "cell_type": "code",
   "execution_count": 1,
   "metadata": {},
   "outputs": [
    {
     "name": "stdout",
     "output_type": "stream",
     "text": [
      "node: 0\n",
      "ASN: 37721\n",
      "org_name: Virtual Technologies & Solutions\n",
      "hq_country: BF\n",
      "hq_continent: AF\n",
      "business_type: Cable/DSL/ISP\n",
      "rir: AFRINIC\n",
      "is_VP: 1\n",
      "transit_degree: 0\n",
      "pfxs_originating: 0\n",
      "pfxs_originating_raw: 0\n",
      "ip_space_originating: 0\n",
      "node_degree: 89\n",
      "in_degree: 0\n",
      "out_degree: 89\n",
      "betweenness_d: 0.0\n",
      "closeness_d: 0.495945945945946\n",
      "harmonic_closeness_d: 0.4471288515406168\n",
      "pagerank_d: 0.0011781110061355575\n",
      "eigenvector_vmap: 0.0\n",
      "betweenness_ud: 2361.2857159859896\n",
      "closeness_ud: 0.490216271884655\n",
      "harmonic_closeness_ud: 0.5563725490196088\n",
      "pagerank_ud: 0.009566869255175607\n",
      "eigenvector_ud: 0.11962866968889432\n",
      "local_clustering_d: 0.06754341164453524\n",
      "local_clustering_ud: 0.13508682328907048\n",
      "avg_neighbor_degree: 37\n",
      "\n",
      "\n",
      "node: 1\n",
      "ASN: 6762\n",
      "org_name: TELECOM ITALIA SPARKLE S.p.A.\n",
      "hq_country: IT\n",
      "hq_continent: EU\n",
      "business_type: NSP\n",
      "rir: RIPE\n",
      "is_VP: 0\n",
      "transit_degree: 66\n",
      "pfxs_originating: 0\n",
      "pfxs_originating_raw: 1\n",
      "ip_space_originating: 0\n",
      "node_degree: 72\n",
      "in_degree: 24\n",
      "out_degree: 48\n",
      "betweenness_d: 1395.6994458015006\n",
      "closeness_d: 0.4426829268292683\n",
      "harmonic_closeness_d: 0.3852240896358547\n",
      "pagerank_d: 0.002601247158885218\n",
      "eigenvector_vmap: 0.11609678131722301\n",
      "betweenness_ud: 3322.6759787991123\n",
      "closeness_ud: 0.47600000000000003\n",
      "harmonic_closeness_ud: 0.531057422969189\n",
      "pagerank_ud: 0.00878285417414675\n",
      "eigenvector_ud: 0.11774026278497882\n",
      "local_clustering_d: 0.0598404255319149\n",
      "local_clustering_ud: 0.2554773082942097\n",
      "avg_neighbor_degree: 47\n",
      "\n",
      "\n",
      "node: 2\n",
      "ASN: 44103\n",
      "org_name: The Mastermind Holding B.V.\n",
      "hq_country: NL\n",
      "hq_continent: EU\n",
      "business_type: NSP\n",
      "rir: RIPE\n",
      "is_VP: 1\n",
      "transit_degree: 0\n",
      "pfxs_originating: 0\n",
      "pfxs_originating_raw: 0\n",
      "ip_space_originating: 0\n",
      "node_degree: 42\n",
      "in_degree: 0\n",
      "out_degree: 42\n",
      "betweenness_d: 0.0\n",
      "closeness_d: 0.4354460093896714\n",
      "harmonic_closeness_d: 0.3839985994397763\n",
      "pagerank_d: 0.0011781110061355575\n",
      "eigenvector_vmap: 0.0\n",
      "betweenness_ud: 494.2334429999696\n",
      "closeness_ud: 0.43709825528007346\n",
      "harmonic_closeness_ud: 0.4844887955182087\n",
      "pagerank_ud: 0.004529646766951012\n",
      "eigenvector_ud: 0.054900630075124725\n",
      "local_clustering_d: 0.06445993031358885\n",
      "local_clustering_ud: 0.1289198606271777\n",
      "avg_neighbor_degree: 39\n",
      "\n",
      "\n",
      "link: (0, 1)\n",
      "vp_visibility: 1\n",
      "seeing_RCs: []\n",
      "advertised_pfxs_count: 556\n",
      "transit_degree_ratio: 0.0\n",
      "betweenness_d: 13.65804930363754\n",
      "betweenness_ud: 95.09097546600724\n"
     ]
    }
   ],
   "source": [
    "import graph_tool.all as gt\n",
    "\n",
    "GRAPH_PATH = \"AS_graph.gt\"\n",
    "\n",
    "g = gt.load_graph(GRAPH_PATH)\n",
    "\n",
    "node_properties = g.vertex_properties\n",
    "link_properties = g.edge_properties\n",
    "\n",
    "nodes = g.vertices()\n",
    "links = g.edges()\n",
    "\n",
    "count=0\n",
    "for node in nodes:\n",
    "    count+=1\n",
    "    print('node: ' + str(node))\n",
    "    for prop in node_properties:\n",
    "        print(str(prop) + ': ' + str(node_properties[prop][node]))\n",
    "    print('\\n')\n",
    "    if count>2:\n",
    "        break\n",
    "        \n",
    "\n",
    "for link in links:\n",
    "    count+=1\n",
    "    print('link: ' + str(link))\n",
    "    for prop in link_properties:\n",
    "        print(str(prop) + ': ' + str(link_properties[prop][link]))\n",
    "    if count>0:\n",
    "        break"
   ]
  },
  {
   "cell_type": "code",
   "execution_count": 1,
   "metadata": {},
   "outputs": [
    {
     "name": "stdout",
     "output_type": "stream",
     "text": [
      "11\n"
     ]
    }
   ],
   "source": [
    "types = {'Route Collector', 'Network Services', 'Content', 'NSP', 'Cable/DSL/ISP', 'Route Server', 'Educational/Research', 'Enterprise', 'Non-Profit', 'Not Disclosed', 'Government'}\n",
    "print(len(types))"
   ]
  },
  {
   "cell_type": "code",
   "execution_count": 8,
   "metadata": {},
   "outputs": [
    {
     "name": "stdout",
     "output_type": "stream",
     "text": [
      "set()\n",
      "set()\n"
     ]
    }
   ],
   "source": [
    "countries = set()\n",
    "business_type = set()\n",
    "for node in nodes:\n",
    "    countries.add(node_properties['hq_country'][node])\n",
    "    business_type.add(node_properties['business_type'][node])\n",
    "\n",
    "print(countries)\n",
    "print(business_type)"
   ]
  }
 ],
 "metadata": {
  "kernelspec": {
   "display_name": "thesis",
   "language": "python",
   "name": "python3"
  },
  "language_info": {
   "codemirror_mode": {
    "name": "ipython",
    "version": 3
   },
   "file_extension": ".py",
   "mimetype": "text/x-python",
   "name": "python",
   "nbconvert_exporter": "python",
   "pygments_lexer": "ipython3",
   "version": "3.11.2"
  },
  "orig_nbformat": 4
 },
 "nbformat": 4,
 "nbformat_minor": 2
}
